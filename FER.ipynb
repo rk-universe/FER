{
 "cells": [
  {
   "cell_type": "code",
   "execution_count": 1,
   "id": "4eac2f3e",
   "metadata": {},
   "outputs": [],
   "source": [
    "import cv2"
   ]
  },
  {
   "cell_type": "code",
   "execution_count": 2,
   "id": "f9db0ef4",
   "metadata": {},
   "outputs": [],
   "source": [
    "from deepface import DeepFace"
   ]
  },
  {
   "cell_type": "code",
   "execution_count": 3,
   "id": "51ee4406",
   "metadata": {},
   "outputs": [],
   "source": [
    "import numpy"
   ]
  },
  {
   "cell_type": "code",
   "execution_count": 4,
   "id": "74eb9f31",
   "metadata": {},
   "outputs": [],
   "source": [
    "faceCascade = cv2.CascadeClassifier(cv2.data.haarcascades + 'haarcascade_frontalface_default.xml')"
   ]
  },
  {
   "cell_type": "code",
   "execution_count": 5,
   "id": "71c881f2",
   "metadata": {},
   "outputs": [],
   "source": [
    "cap = cv2.VideoCapture(0)\n",
    "while cap.isOpened():\n",
    "    Y_N,frame = cap.read()\n",
    "    if Y_N:\n",
    "#         res_img=cv2.resize(frame,(700,500))\n",
    "        result = DeepFace.analyze(frame,actions = ['emotion'],enforce_detection=False)\n",
    "        gray = cv2.cvtColor(frame, cv2.COLOR_BGR2GRAY)\n",
    "        faces = faceCascade.detectMultiScale(gray,1.1,4)\n",
    "        for(x, y, w, h) in faces:\n",
    "              cv2.rectangle(frame, (x,y),(x+w, y+h),(0,255, 0),2)\n",
    "                \n",
    "        font=cv2.FONT_HERSHEY_SIMPLEX\n",
    "        cv2.putText(frame,result['dominant_emotion'], (50,50),font, 1,(0,0,255),2,cv2.LINE_4);\n",
    "        \n",
    "\n",
    "        cv2.imshow('original video',frame)\n",
    "        if cv2.waitKey(25) & 0xff == ord('q'):\n",
    "            break\n",
    "    else:\n",
    "        break\n",
    "        \n",
    "cap.release()\n",
    "cv2.destroyAllWindows()\n",
    "    "
   ]
  },
  {
   "cell_type": "code",
   "execution_count": null,
   "id": "1b33f61e",
   "metadata": {},
   "outputs": [],
   "source": []
  }
 ],
 "metadata": {
  "kernelspec": {
   "display_name": "Python 3 (ipykernel)",
   "language": "python",
   "name": "python3"
  },
  "language_info": {
   "codemirror_mode": {
    "name": "ipython",
    "version": 3
   },
   "file_extension": ".py",
   "mimetype": "text/x-python",
   "name": "python",
   "nbconvert_exporter": "python",
   "pygments_lexer": "ipython3",
   "version": "3.7.11"
  }
 },
 "nbformat": 4,
 "nbformat_minor": 5
}
